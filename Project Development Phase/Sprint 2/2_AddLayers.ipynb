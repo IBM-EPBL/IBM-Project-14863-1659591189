{
  "nbformat": 4,
  "nbformat_minor": 0,
  "metadata": {
    "colab": {
      "provenance": [],
      "collapsed_sections": []
    },
    "kernelspec": {
      "name": "python3",
      "display_name": "Python 3"
    },
    "language_info": {
      "name": "python"
    },
    "accelerator": "GPU",
    "gpuClass": "standard"
  },
  "cells": [
    {
      "cell_type": "code",
      "source": [
        "#Add Layers\n",
        "from keras.models import Sequential\n",
        "from keras.layers import Dense\n",
        "from keras.layers import Convolution2D\n",
        "from tensorflow.keras.layers import Conv2D, MaxPooling2D\n",
        "from keras.layers import Dropout\n",
        "from keras.layers import Flatten\n"
      ],
      "metadata": {
        "id": "ndE-hU3iDHVZ"
      },
      "execution_count": 9,
      "outputs": []
    },
    {
      "cell_type": "code",
      "source": [
        "#Creating the model\n",
        "model=Sequential()\n",
        "#Adding the layers\n",
        "model.add(Convolution2D(32,(3,3), input_shape=(64,64,1), activation = 'relu'))\n",
        "model.add(MaxPooling2D(pool_size=(2,2)))\n",
        "model.add(Flatten())\n",
        "\n",
        "#adding hidden layers\n",
        "model.add(Dense(400, activation='relu'))\n",
        "model.add(Dense(200, activation='relu'))\n",
        "model.add(Dense(100, activation='relu'))\n",
        "\n",
        "#Adding the output layer\n",
        "model.add(Dense(9, activation='softmax'))"
      ],
      "metadata": {
        "id": "MQYWTA2rDPdF"
      },
      "execution_count": 10,
      "outputs": []
    }
  ]
}